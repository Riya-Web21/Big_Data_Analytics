{
 "cells": [
  {
   "cell_type": "markdown",
   "id": "fca89885",
   "metadata": {},
   "source": [
    "# Z-Test"
   ]
  },
  {
   "cell_type": "code",
   "execution_count": 1,
   "id": "47f64109",
   "metadata": {},
   "outputs": [],
   "source": [
    "#AIM : To perform and analysis of Z Test parametric Test\n",
    "#Name : Riya M. Bhattad\n",
    "#Roll no. : 14 \n",
    "#Section : A \n",
    "#Subject : PE-II\n",
    "#Date : 11/03/25"
   ]
  },
  {
   "cell_type": "code",
   "execution_count": 2,
   "id": "51bcee9d",
   "metadata": {},
   "outputs": [],
   "source": [
    "ages=[10,20,35,50,28,40,55,18,16,55,30,25,43,18,30,28,14,24,16,17,32,35,26,27,65,18,43,23,21,20,19,70]"
   ]
  },
  {
   "cell_type": "code",
   "execution_count": 3,
   "id": "6f1d2737",
   "metadata": {},
   "outputs": [
    {
     "data": {
      "text/plain": [
       "32"
      ]
     },
     "execution_count": 3,
     "metadata": {},
     "output_type": "execute_result"
    }
   ],
   "source": [
    "len(ages)"
   ]
  },
  {
   "cell_type": "code",
   "execution_count": 4,
   "id": "611e2beb",
   "metadata": {},
   "outputs": [
    {
     "data": {
      "text/plain": [
       "list"
      ]
     },
     "execution_count": 4,
     "metadata": {},
     "output_type": "execute_result"
    }
   ],
   "source": [
    "type(ages)"
   ]
  },
  {
   "cell_type": "code",
   "execution_count": 5,
   "id": "06fa716d",
   "metadata": {},
   "outputs": [],
   "source": [
    "# Python program to implement One Sample Z-Test   \n",
    "  \n",
    "# Importing the required libraries  \n",
    "import pandas as pd  \n",
    "from scipy import stats  \n",
    "from statsmodels.stats import weightstats as stests  "
   ]
  },
  {
   "cell_type": "code",
   "execution_count": 6,
   "id": "36efaa07",
   "metadata": {},
   "outputs": [],
   "source": [
    "# Creating a dataset  \n",
    "data = [89, 93, 95, 93, 97, 98, 96, 99, 93, 97,  \n",
    "        110, 104, 119, 105, 104, 110, 110, 112, 115, 114,26,65,76,87,98,23,45,67,89,90,87,76,65,54,43,32,21,67,78,79]  "
   ]
  },
  {
   "cell_type": "code",
   "execution_count": 7,
   "id": "8a0390cd",
   "metadata": {},
   "outputs": [
    {
     "name": "stdout",
     "output_type": "stream",
     "text": [
      "1.8388410294011585e-85\n"
     ]
    }
   ],
   "source": [
    "# Performing the z-test  \n",
    "z_test ,p_val = stests.ztest(data)  \n",
    "print(p_val)  "
   ]
  },
  {
   "cell_type": "code",
   "execution_count": 9,
   "id": "adc6e8cc",
   "metadata": {},
   "outputs": [
    {
     "name": "stdout",
     "output_type": "stream",
     "text": [
      "We can reject the null hypothesis\n"
     ]
    }
   ],
   "source": [
    "# taking the threshold value as 0.05 or 5%  \n",
    "if p_val < 0.05:  \n",
    "    print(\"We can reject the null hypothesis\")  \n",
    "else:  \n",
    "    print(\"We can accept the null hypothesis\")  "
   ]
  },
  {
   "cell_type": "code",
   "execution_count": null,
   "id": "95461945",
   "metadata": {},
   "outputs": [],
   "source": []
  }
 ],
 "metadata": {
  "kernelspec": {
   "display_name": "Python 3 (ipykernel)",
   "language": "python",
   "name": "python3"
  },
  "language_info": {
   "codemirror_mode": {
    "name": "ipython",
    "version": 3
   },
   "file_extension": ".py",
   "mimetype": "text/x-python",
   "name": "python",
   "nbconvert_exporter": "python",
   "pygments_lexer": "ipython3",
   "version": "3.9.7"
  }
 },
 "nbformat": 4,
 "nbformat_minor": 5
}
